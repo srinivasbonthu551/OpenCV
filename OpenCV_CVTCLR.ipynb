{
 "cells": [
  {
   "cell_type": "code",
   "execution_count": 4,
   "id": "1e4875cc",
   "metadata": {},
   "outputs": [
    {
     "data": {
      "text/plain": [
       "True"
      ]
     },
     "execution_count": 4,
     "metadata": {},
     "output_type": "execute_result"
    }
   ],
   "source": [
    "import cv2\n",
    "\n",
    "img = cv2.imread(\"C:\\\\Users\\\\Srinu\\\\Pictures\\\\OpenCV\\\\MB1.jpg\")\n",
    "img1 = cv2.cvtColor(img, cv2.COLOR_BGR2GRAY)\n",
    "cv2.imwrite(\"C:\\\\Users\\\\Srinu\\\\Pictures\\\\OpenCV\\\\Gray_MB.jpg\",img1)\n",
    "\n"
   ]
  },
  {
   "cell_type": "code",
   "execution_count": 5,
   "id": "65429aff",
   "metadata": {},
   "outputs": [
    {
     "data": {
      "text/plain": [
       "True"
      ]
     },
     "execution_count": 5,
     "metadata": {},
     "output_type": "execute_result"
    }
   ],
   "source": [
    "img2 = cv2.cvtColor(img, cv2.COLOR_BGR2HSV)\n",
    "cv2.imwrite(\"C:\\\\Users\\\\Srinu\\\\Pictures\\\\OpenCV\\\\HSV_MB.jpg\",img2)"
   ]
  },
  {
   "cell_type": "code",
   "execution_count": 6,
   "id": "93d65755",
   "metadata": {},
   "outputs": [
    {
     "data": {
      "text/plain": [
       "True"
      ]
     },
     "execution_count": 6,
     "metadata": {},
     "output_type": "execute_result"
    }
   ],
   "source": [
    "img3 = cv2.cvtColor(img, cv2.COLOR_BGR2RGB)\n",
    "cv2.imwrite(\"C:\\\\Users\\\\Srinu\\\\Pictures\\\\OpenCV\\\\RGB_MB.jpg\",img3)"
   ]
  },
  {
   "cell_type": "code",
   "execution_count": null,
   "id": "e8ade2be",
   "metadata": {},
   "outputs": [],
   "source": []
  }
 ],
 "metadata": {
  "kernelspec": {
   "display_name": "Python 3 (ipykernel)",
   "language": "python",
   "name": "python3"
  },
  "language_info": {
   "codemirror_mode": {
    "name": "ipython",
    "version": 3
   },
   "file_extension": ".py",
   "mimetype": "text/x-python",
   "name": "python",
   "nbconvert_exporter": "python",
   "pygments_lexer": "ipython3",
   "version": "3.10.9"
  }
 },
 "nbformat": 4,
 "nbformat_minor": 5
}
